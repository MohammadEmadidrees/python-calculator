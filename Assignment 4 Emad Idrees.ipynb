{
 "cells": [
  {
   "cell_type": "code",
   "execution_count": 1,
   "id": "a3a1b499",
   "metadata": {},
   "outputs": [
    {
     "name": "stdout",
     "output_type": "stream",
     "text": [
      "Emad Calculator\n",
      "1.Add\n",
      "2.Subtract\n",
      "3.Multiply\n",
      "4.Divide\n",
      "5.Power\n",
      "Enter Choice3\n",
      "Enter Number One:10\n",
      "Enter Number Two:12\n",
      "Result is 120\n",
      "Emad Calculator\n",
      "1.Add\n",
      "2.Subtract\n",
      "3.Multiply\n",
      "4.Divide\n",
      "5.Power\n",
      "Enter Choice5\n",
      "Enter Number One for base:2\n",
      "Enter number two for exponent6\n",
      "Result is 64.0\n"
     ]
    }
   ],
   "source": [
    "## 1.Make a calculator using Python with addition , subtraction ,multiplication ,division and power.\n",
    "import math\n",
    "i=0\n",
    "while(i<2):\n",
    "    i=i+1\n",
    "    print(\"Emad Calculator\")\n",
    "    print(\"1.Add\")\n",
    "    print(\"2.Subtract\")\n",
    "    print(\"3.Multiply\")\n",
    "    print(\"4.Divide\")\n",
    "    print(\"5.Power\")\n",
    "    choice=int(input(\"Enter Choice\"))\n",
    "    if choice==1:\n",
    "        a=int(input(\"Enter Number One:\"))\n",
    "        b=int(input(\"Enter Number Two:\"))\n",
    "        c=a+b\n",
    "        print(\"Result is\",c)\n",
    "    elif choice==2:\n",
    "        a=int(input(\"Enter Number One:\"))\n",
    "        b=int(input(\"Enter Number Two:\"))\n",
    "        c=a-b\n",
    "        print(\"Result is\",c)\n",
    "    elif choice==3:\n",
    "        a=int(input(\"Enter Number One:\"))\n",
    "        b=int(input(\"Enter Number Two:\"))\n",
    "        c=a*b\n",
    "        print(\"Result is\",c)\n",
    "    elif choice==4:\n",
    "        a=int(input(\"Enter Number One:\"))\n",
    "        b=int(input(\"Enter Number Two:\"))\n",
    "        c=a//b\n",
    "        print(\"Result is\",c)\n",
    "    elif choice==5:\n",
    "        a=int(input(\"Enter Number One for base:\"))\n",
    "        b=int(input(\"Enter number two for exponent\"))\n",
    "        c=math.pow(a,b)\n",
    "        print(\"Result is\",c)"
   ]
  },
  {
   "cell_type": "code",
   "execution_count": 4,
   "id": "5453c303",
   "metadata": {},
   "outputs": [
    {
     "name": "stdout",
     "output_type": "stream",
     "text": [
      "1\n",
      "2\n",
      "3\n"
     ]
    }
   ],
   "source": [
    "## 2.Write a program to check if there is any numeric value in list using for loop.\n",
    "Emad=[\"Electronic\",\"Simple\",\"Bit\",1,2,3]\n",
    "for x in Emad: \n",
    "    if type(x) == int: \n",
    "        print(x)"
   ]
  },
  {
   "cell_type": "code",
   "execution_count": 5,
   "id": "c14fba70",
   "metadata": {},
   "outputs": [
    {
     "name": "stdout",
     "output_type": "stream",
     "text": [
      "{'Emad': 1, 'Simple': 2}\n",
      "{'Emad': 1, 'Simple': 2, 'Electronic': 3}\n"
     ]
    }
   ],
   "source": [
    "## 3.Write a Python script to add a key to a dictionary.\n",
    "dictionary= {\"Emad\":1, \"Simple\":2}\n",
    "print(dictionary)\n",
    "dictionary.update({\"Electronic\":3})\n",
    "print(dictionary)"
   ]
  },
  {
   "cell_type": "code",
   "execution_count": 6,
   "id": "3386413a",
   "metadata": {},
   "outputs": [
    {
     "name": "stdout",
     "output_type": "stream",
     "text": [
      "6\n"
     ]
    }
   ],
   "source": [
    "## 4.Write a Python program to sum all the numeric items in a dictionary.\n",
    "dictionary= {\"Emad\":1, \"Simple\":2,\"Electronic\":3}\n",
    "print(sum(dictionary.values()))"
   ]
  },
  {
   "cell_type": "code",
   "execution_count": 7,
   "id": "18d39d39",
   "metadata": {},
   "outputs": [
    {
     "name": "stdout",
     "output_type": "stream",
     "text": [
      "2 3 4 5 "
     ]
    }
   ],
   "source": [
    "## 5.Write a program to identify duplicate values from list.\n",
    "l=[1,2,3,4,5,2,3,4,7,9,5]\n",
    "l1=[]\n",
    "for i in l:\n",
    "    if i not in l1:\n",
    "        l1.append(i)\n",
    "    else:\n",
    "        print(i,end=' ')"
   ]
  },
  {
   "cell_type": "code",
   "execution_count": 10,
   "id": "3cb62f75",
   "metadata": {},
   "outputs": [
    {
     "name": "stdout",
     "output_type": "stream",
     "text": [
      "The given dictionary :  {'Mon': 3, 'Tue': 5, 'Wed': 6, 'Thu': 9, 'Fri': 7}\n",
      "Sat  is not Present.\n"
     ]
    }
   ],
   "source": [
    "## 6.Write a Python script to check if a given key already exists in a dictionary\n",
    "Emad_dict= {'Mon':3,'Tue':5,'Wed':6,'Thu':9,\"Fri\":7}\n",
    "print(\"The given dictionary : \",Emad_dict)\n",
    "check_key = \"Sat\"\n",
    "if check_key in Emad_dict:\n",
    "   print(check_key,\"is Present.\")\n",
    "else:\n",
    "   print(check_key, \" is not Present.\")"
   ]
  }
 ],
 "metadata": {
  "kernelspec": {
   "display_name": "Python 3",
   "language": "python",
   "name": "python3"
  },
  "language_info": {
   "codemirror_mode": {
    "name": "ipython",
    "version": 3
   },
   "file_extension": ".py",
   "mimetype": "text/x-python",
   "name": "python",
   "nbconvert_exporter": "python",
   "pygments_lexer": "ipython3",
   "version": "3.8.8"
  }
 },
 "nbformat": 4,
 "nbformat_minor": 5
}
